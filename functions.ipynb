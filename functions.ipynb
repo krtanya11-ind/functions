{
  "nbformat": 4,
  "nbformat_minor": 0,
  "metadata": {
    "colab": {
      "provenance": []
    },
    "kernelspec": {
      "name": "python3",
      "display_name": "Python 3"
    },
    "language_info": {
      "name": "python"
    }
  },
  "cells": [
    {
      "cell_type": "markdown",
      "source": [
        "#Theory Questions(FUNCTIONS)\n",
        "\n",
        " 1. What is the difference between a function and a method in Python?\n",
        " - In Python, functions and methods are similar in that both are blocks of reusable code that perform a specific task. However, there are important differences between them based on how and where they are used.\n",
        "   Function:-\n",
        "\n",
        "A function is defined using the def keyword or the lambda keyword.\n",
        "\n",
        "It can exist independently of any class or object.\n",
        "\n",
        "Can be called by its name and used anywhere in the program (once defined).\n",
        "\n",
        " Method:-\n",
        "\n",
        "A method is a function that is associated with an object.\n",
        "\n",
        "It is defined inside a class.\n",
        "\n",
        "It always takes self as its first parameter (for instance methods), which refers to the object itself.\n",
        "\n",
        "Called using the dot . notation on an object.\n",
        "\n",
        "\n"
      ],
      "metadata": {
        "id": "1sv4bMVNw32L"
      }
    },
    {
      "cell_type": "markdown",
      "source": [
        "2. Explain the concept of function arguments and parameters in Python.\n",
        "-  Parameters (Definition time):-\n",
        "\n",
        "Parameters are the placeholders or variable names listed in a function definition.\n",
        "\n",
        "They define what kind of input the function can accept.\n",
        " - Arguments (Call time):-\n",
        "\n",
        "Arguments are the actual values passed to the function when it is called.\n",
        "\n",
        "\n"
      ],
      "metadata": {
        "id": "CYrBbS8XyRUb"
      }
    },
    {
      "cell_type": "markdown",
      "source": [
        "3. What are the different ways to define and call a function in Python?\n",
        "-  1. Defining a Function:-\n",
        "  Regular Function (using def):-"
      ],
      "metadata": {
        "id": "IAZD8GX4y1yi"
      }
    },
    {
      "cell_type": "code",
      "source": [
        "def greet(name):\n",
        "    return f\"Hello, {name}!\"\n",
        "greet(\"tanya\")"
      ],
      "metadata": {
        "colab": {
          "base_uri": "https://localhost:8080/",
          "height": 35
        },
        "id": "qo7YRMW5znvA",
        "outputId": "cfd38846-04e3-4d25-9461-3a67503f8452"
      },
      "execution_count": 2,
      "outputs": [
        {
          "output_type": "execute_result",
          "data": {
            "text/plain": [
              "'Hello, tanya!'"
            ],
            "application/vnd.google.colaboratory.intrinsic+json": {
              "type": "string"
            }
          },
          "metadata": {},
          "execution_count": 2
        }
      ]
    },
    {
      "cell_type": "markdown",
      "source": [
        "Function with Default Parameters:-"
      ],
      "metadata": {
        "id": "Sc4oIzjOz2Fl"
      }
    },
    {
      "cell_type": "code",
      "execution_count": 3,
      "metadata": {
        "colab": {
          "base_uri": "https://localhost:8080/",
          "height": 35
        },
        "id": "F3HpdL25wi9l",
        "outputId": "c5b9763e-f2f8-4580-e251-b7762c98165e"
      },
      "outputs": [
        {
          "output_type": "execute_result",
          "data": {
            "text/plain": [
              "'Hello, Guest!'"
            ],
            "application/vnd.google.colaboratory.intrinsic+json": {
              "type": "string"
            }
          },
          "metadata": {},
          "execution_count": 3
        }
      ],
      "source": [
        "def greet(name=\"Guest\"):\n",
        "    return f\"Hello, {name}!\"\n",
        "greet()"
      ]
    },
    {
      "cell_type": "markdown",
      "source": [
        "Function with *args (Variable Positional Arguments):-"
      ],
      "metadata": {
        "id": "BYjWaFaS0Jgb"
      }
    },
    {
      "cell_type": "code",
      "source": [
        "def add_numbers(*args):\n",
        "    return sum(args)\n",
        "nums = (1, 2, 3)\n",
        "add_numbers(*nums)  # Unpacks as 1, 2, 3\n"
      ],
      "metadata": {
        "colab": {
          "base_uri": "https://localhost:8080/"
        },
        "id": "l2AntqwE0OJ3",
        "outputId": "0edd149e-8ba8-4704-c806-3b8932f5c894"
      },
      "execution_count": 4,
      "outputs": [
        {
          "output_type": "execute_result",
          "data": {
            "text/plain": [
              "6"
            ]
          },
          "metadata": {},
          "execution_count": 4
        }
      ]
    },
    {
      "cell_type": "markdown",
      "source": [
        "Function with **kwargs (Variable Keyword Arguments):-"
      ],
      "metadata": {
        "id": "8mIS41UT0gYo"
      }
    },
    {
      "cell_type": "code",
      "source": [
        "def show_info(**kwargs):\n",
        "    for key, value in kwargs.items():\n",
        "        print(f\"{key}: {value}\")\n",
        "info = {\"name\": \"Eve\", \"age\": 30}\n",
        "def print_info(name, age):\n",
        "    print(name, age)\n",
        "\n",
        "print_info(**info)\n"
      ],
      "metadata": {
        "colab": {
          "base_uri": "https://localhost:8080/"
        },
        "id": "s-xHaIVw0j7Q",
        "outputId": "a40d5735-aa84-4b1f-927e-faa44410bf02"
      },
      "execution_count": 5,
      "outputs": [
        {
          "output_type": "stream",
          "name": "stdout",
          "text": [
            "Eve 30\n"
          ]
        }
      ]
    },
    {
      "cell_type": "markdown",
      "source": [
        " Lambda Function:-"
      ],
      "metadata": {
        "id": "zDhezB7V015A"
      }
    },
    {
      "cell_type": "code",
      "source": [
        "square = lambda x: x * x\n",
        "square(5)  # Returns 25\n"
      ],
      "metadata": {
        "colab": {
          "base_uri": "https://localhost:8080/"
        },
        "id": "ChucAtbL03xQ",
        "outputId": "da3b43ab-b9f4-4a96-95f5-441ce450a4bf"
      },
      "execution_count": 6,
      "outputs": [
        {
          "output_type": "execute_result",
          "data": {
            "text/plain": [
              "25"
            ]
          },
          "metadata": {},
          "execution_count": 6
        }
      ]
    },
    {
      "cell_type": "markdown",
      "source": [
        "4. What is the purpose of the `return` statement in a Python function?\n",
        "- The return statement in a Python function is used to send a result back to the caller of the function. It effectively ends the function and optionally passes back a value (or multiple values)."
      ],
      "metadata": {
        "id": "iza7MrTy1Lgp"
      }
    },
    {
      "cell_type": "markdown",
      "source": [
        "5. What are iterators in Python and how do they differ from iterables?\n",
        "- In Python, iterators and iterables are fundamental to working with loops, especially for loops and comprehensions. While they are closely related, they are not the same.\n",
        "- Iterable:-\n",
        "\n",
        "An iterable is any object that can be looped over (i.e., used in a for loop).\n",
        "\n",
        "Examples: list, tuple, str, set, dict, and even file objects.\n",
        "\n",
        "It must implement the __iter__() method, which returns an iterator.\n",
        "\n",
        " - Iterator:-\n",
        "\n",
        "An iterator is the object that actually performs the iteration — it gives you values one at a time using the next() function.\n",
        "\n",
        "It must implement both:\n",
        "\n",
        "__iter__() → returns the iterator itself\n",
        "\n",
        "__next__() → returns the next value, or raises StopIteration when done"
      ],
      "metadata": {
        "id": "t7ilqfC41U9u"
      }
    },
    {
      "cell_type": "markdown",
      "source": [
        "6. Explain the concept of generators in Python and how they are defined.\n",
        "- Generator?\n",
        "\n",
        "A generator is a function that yields values one at a time using the yield keyword, instead of returning them all at once with return.\n",
        "\n",
        "Each time yield is called, the generator pauses and remembers its state.\n",
        "\n",
        "When you call next() again, it resumes from where it left off."
      ],
      "metadata": {
        "id": "Ai9WsMFr2IjS"
      }
    },
    {
      "cell_type": "markdown",
      "source": [
        "7. What are the advantages of using generators over regular functions?\n",
        "- Generators offer several advantages over regular functions—especially when working with large datasets, streams of data, or when performance and memory usage are important."
      ],
      "metadata": {
        "id": "uWvSXxXf2aCG"
      }
    },
    {
      "cell_type": "markdown",
      "source": [
        "8. What is a lambda function in Python and when is it typically used?\n",
        "- A lambda function in Python is a small, anonymous (unnamed) function defined using the lambda keyword. It is used to create simple functions in a single line, typically for short-term use."
      ],
      "metadata": {
        "id": "pC3oJybI23YF"
      }
    },
    {
      "cell_type": "markdown",
      "source": [
        "9. Explain the purpose and usage of the `map()` function in Python.\n",
        "- The map() function in Python is used to apply a function to every item in an iterable (like a list, tuple, or set) and returns a new iterator with the results.\n",
        "- Purpose of map():-\n",
        "\n",
        "To transform or process elements in an iterable without using a loop.\n",
        "\n",
        "Makes code shorter and often more readable than a for loop."
      ],
      "metadata": {
        "id": "HSPxPwJJ3EP-"
      }
    },
    {
      "cell_type": "markdown",
      "source": [
        "10. What is the difference between `map()`, `reduce()`, and `filter()` functions in Python?\n",
        "-  map(), reduce(), and filter() are all functional programming tools in Python that operate on iterables. While they all involve applying a function to a sequence, they serve very different purposes.\n",
        "\n",
        " - map():-\n",
        " Purpose: Applies a function to every item in an iterable.\n",
        " - filter():-\n",
        " Purpose: Applies a function that returns True or False to each item and keeps only the items where the result is True.\n",
        " - reduce():-\n",
        " Purpose: Applies a function cumulatively to reduce the iterable to a single value.\n",
        "\n",
        "reduce() is not built-in like map() and filter() — you must import it from functools."
      ],
      "metadata": {
        "id": "HYL59QUU3bUf"
      }
    },
    {
      "cell_type": "markdown",
      "source": [
        "11. 1. Using pen & Paper write the internal mechanism for sum operation using  reduce function on this given\n",
        "list:[47,11,42,13];\n",
        "- attachment on doc-"
      ],
      "metadata": {
        "id": "e4YuTwNaOXcO"
      }
    },
    {
      "cell_type": "markdown",
      "source": [
        "#Practical Question\n",
        "1. Write a Python function that takes a list of numbers as input and returns the sum of all even numbers in the list.\n"
      ],
      "metadata": {
        "id": "8-F8dXl18FUs"
      }
    },
    {
      "cell_type": "code",
      "source": [
        "def sum_even_numbers(numbers):\n",
        "    total = 0\n",
        "    for num in numbers:\n",
        "        if num % 2 == 0:\n",
        "            total += num\n",
        "    return total\n",
        "\n",
        "nums = [1, 2, 3, 4, 5, 6]\n",
        "print(sum_even_numbers(nums))  # Output: 12\n"
      ],
      "metadata": {
        "colab": {
          "base_uri": "https://localhost:8080/"
        },
        "id": "Pw8nzoLA8T2b",
        "outputId": "01e312ae-8d01-4670-fe39-5845342b43bb"
      },
      "execution_count": 16,
      "outputs": [
        {
          "output_type": "stream",
          "name": "stdout",
          "text": [
            "12\n"
          ]
        }
      ]
    },
    {
      "cell_type": "markdown",
      "source": [
        "2. Create a Python function that accepts a string and returns the reverse of that string."
      ],
      "metadata": {
        "id": "EDIDb80H-0gN"
      }
    },
    {
      "cell_type": "code",
      "source": [
        "def reverse_string(s):\n",
        "  return s[::-1]\n",
        "\n",
        "string=\" hello world\"\n",
        "print(reverse_string(string))\n",
        "\n",
        "\n",
        "\n"
      ],
      "metadata": {
        "colab": {
          "base_uri": "https://localhost:8080/"
        },
        "id": "K-ltV6Lz-1jK",
        "outputId": "20b8bac6-a456-4bbc-cfb7-6057a0cab932"
      },
      "execution_count": 23,
      "outputs": [
        {
          "output_type": "stream",
          "name": "stdout",
          "text": [
            "dlrow olleh \n"
          ]
        }
      ]
    },
    {
      "cell_type": "markdown",
      "source": [
        "3. Implement a Python function that takes a list of integers and returns a new list containing the squares of\n",
        "each number."
      ],
      "metadata": {
        "id": "EnF8R-9RA_US"
      }
    },
    {
      "cell_type": "code",
      "source": [
        "def square_list(numbers):\n",
        "    return list(map(lambda x: x ** 2, numbers))\n",
        "\n",
        "# Example usage:\n",
        "print(square_list([2, 3, 4]))  # Output: [4, 9, 16]\n"
      ],
      "metadata": {
        "colab": {
          "base_uri": "https://localhost:8080/"
        },
        "id": "0gD4F2r-DP0J",
        "outputId": "5408df17-b207-4cdf-9c7d-0816e906631b"
      },
      "execution_count": 34,
      "outputs": [
        {
          "output_type": "stream",
          "name": "stdout",
          "text": [
            "[4, 9, 16]\n"
          ]
        }
      ]
    },
    {
      "cell_type": "markdown",
      "source": [
        "4. Write a Python function that checks if a given number is prime or not from 1 to 200."
      ],
      "metadata": {
        "id": "4vxjsoMkDfCY"
      }
    },
    {
      "cell_type": "code",
      "source": [
        "def is_prime(num):\n",
        "    if num < 2:\n",
        "        return False\n",
        "    for i in range(2, int(num ** 0.5) + 1):\n",
        "        if num % i == 0:\n",
        "            return False\n",
        "    return True\n",
        "\n",
        "# Example usage:\n",
        "print(is_prime(7))   # True\n",
        "print(is_prime(10))  # False\n"
      ],
      "metadata": {
        "colab": {
          "base_uri": "https://localhost:8080/"
        },
        "id": "i_TiHEsaGI4a",
        "outputId": "b142f9fb-3452-4875-8649-51e48ca8f518"
      },
      "execution_count": 38,
      "outputs": [
        {
          "output_type": "stream",
          "name": "stdout",
          "text": [
            "True\n",
            "False\n"
          ]
        }
      ]
    },
    {
      "cell_type": "markdown",
      "source": [
        "5. Create an iterator class in Python that generates the Fibonacci sequence up to a specified number of\n",
        "terms."
      ],
      "metadata": {
        "id": "rfcrk0zLHzco"
      }
    },
    {
      "cell_type": "code",
      "source": [
        "class Fibonacci:\n",
        "    def __init__(self, n_terms):\n",
        "        self.n_terms = n_terms\n",
        "\n",
        "    def __iter__(self):\n",
        "        a, b = 0, 1\n",
        "        for _ in range(self.n_terms):\n",
        "            yield a\n",
        "            a, b = b, a + b\n",
        "fib = Fibonacci(10)\n",
        "\n",
        "for num in fib:\n",
        "    print(num, end=' ')\n"
      ],
      "metadata": {
        "colab": {
          "base_uri": "https://localhost:8080/"
        },
        "id": "JXy0AjvHH-aR",
        "outputId": "278b2a22-4978-494b-febc-9f15fa86ccfb"
      },
      "execution_count": 39,
      "outputs": [
        {
          "output_type": "stream",
          "name": "stdout",
          "text": [
            "0 1 1 2 3 5 8 13 21 34 "
          ]
        }
      ]
    },
    {
      "cell_type": "markdown",
      "source": [
        "6. Write a generator function in Python that yields the powers of 2 up to a given exponent."
      ],
      "metadata": {
        "id": "yy8aWtLNIuVB"
      }
    },
    {
      "cell_type": "code",
      "source": [
        "def powers_of_two(n):\n",
        "    for exponent in range(n + 1):\n",
        "        yield 2 ** exponent\n",
        "for value in powers_of_two(5):\n",
        "    print(value, end=' ')\n"
      ],
      "metadata": {
        "colab": {
          "base_uri": "https://localhost:8080/"
        },
        "id": "o_KI3abYIxeQ",
        "outputId": "26c1c69e-d99f-416d-93ef-1d565ed473c8"
      },
      "execution_count": 40,
      "outputs": [
        {
          "output_type": "stream",
          "name": "stdout",
          "text": [
            "1 2 4 8 16 32 "
          ]
        }
      ]
    },
    {
      "cell_type": "markdown",
      "source": [
        "7. Implement a generator function that reads a file line by line and yields each line as a string."
      ],
      "metadata": {
        "id": "PZRXRqvBKZkY"
      }
    },
    {
      "cell_type": "code",
      "source": [
        "def read_file_line_by_line(filepath):\n",
        "    with open(filepath, 'r') as file:\n",
        "        for line in file:\n",
        "            yield line.rstrip('\\n')  # Optional: remove newline character\n",
        "\n",
        "# Create a dummy file for demonstration\n",
        "with open('example.txt', 'w') as f:\n",
        "    f.write(\"This is the first line.\\n\")\n",
        "    f.write(\"This is the second line.\\n\")\n",
        "    f.write(\"This is the third line.\")\n",
        "\n",
        "# Example usage:\n",
        "for line in read_file_line_by_line(filepath='example.txt'):\n",
        "    print(line)"
      ],
      "metadata": {
        "colab": {
          "base_uri": "https://localhost:8080/"
        },
        "id": "nPUZ3T5iKjJW",
        "outputId": "a245c839-ec97-4489-b658-32e7e260d174"
      },
      "execution_count": 60,
      "outputs": [
        {
          "output_type": "stream",
          "name": "stdout",
          "text": [
            "This is the first line.\n",
            "This is the second line.\n",
            "This is the third line.\n"
          ]
        }
      ]
    },
    {
      "cell_type": "markdown",
      "source": [
        "8. Use a lambda function in Python to sort a list of tuples based on the second element of each tuple."
      ],
      "metadata": {
        "id": "VvTQ64CfMBUP"
      }
    },
    {
      "cell_type": "code",
      "source": [
        "data = [(1, 3), (4, 1), (2, 2)]\n",
        "\n",
        "sorted_data = sorted(data, key=lambda x: x[1])\n",
        "print(sorted_data)\n",
        "\n",
        "\n",
        "\n"
      ],
      "metadata": {
        "colab": {
          "base_uri": "https://localhost:8080/"
        },
        "id": "bo6nM6WSMCtY",
        "outputId": "622d8d6a-64b6-4585-d83a-c670e9e8b1cd"
      },
      "execution_count": 56,
      "outputs": [
        {
          "output_type": "stream",
          "name": "stdout",
          "text": [
            "[(4, 1), (2, 2), (1, 3)]\n"
          ]
        }
      ]
    },
    {
      "cell_type": "markdown",
      "source": [
        "9. Write a Python program that uses `map()` to convert a list of temperatures from Celsius to Fahrenheit."
      ],
      "metadata": {
        "id": "WisL0lnQMpzB"
      }
    },
    {
      "cell_type": "code",
      "source": [
        "# List of Celsius temperatures\n",
        "celsius = [0, 20, 30, 37, 100]\n",
        "\n",
        "# Use map() with a lambda to convert each to Fahrenheit\n",
        "fahrenheit = list(map(lambda c: (9/5) * c + 32, celsius))\n",
        "\n",
        "print(fahrenheit)\n"
      ],
      "metadata": {
        "colab": {
          "base_uri": "https://localhost:8080/"
        },
        "id": "pR3vSLPXMq6X",
        "outputId": "53f9c626-a684-45a8-b467-795f53b9afe9"
      },
      "execution_count": 57,
      "outputs": [
        {
          "output_type": "stream",
          "name": "stdout",
          "text": [
            "[32.0, 68.0, 86.0, 98.60000000000001, 212.0]\n"
          ]
        }
      ]
    },
    {
      "cell_type": "markdown",
      "source": [
        "10. Create a Python program that uses `filter()` to remove all the vowels from a given string."
      ],
      "metadata": {
        "id": "zkCk1xmoM0DG"
      }
    },
    {
      "cell_type": "code",
      "source": [
        "def remove_vowels(s):\n",
        "    vowels = 'aeiouAEIOU'\n",
        "    return ''.join(filter(lambda char: char not in vowels, s))\n",
        "\n",
        "# Example usage\n",
        "text = \"hello world\"\n",
        "result = remove_vowels(text)\n",
        "print(result)  # Output: \"hll wrld\"\n"
      ],
      "metadata": {
        "colab": {
          "base_uri": "https://localhost:8080/"
        },
        "id": "PNVT6xaJM7kv",
        "outputId": "3b723904-cb88-4893-8fef-42c1ca0d8fd1"
      },
      "execution_count": 58,
      "outputs": [
        {
          "output_type": "stream",
          "name": "stdout",
          "text": [
            "hll wrld\n"
          ]
        }
      ]
    },
    {
      "cell_type": "markdown",
      "source": [
        "11) Imagine an accounting routine used in a book shop. It works on a list with sublists, which look like this:\n",
        " - Write a Python program, which returns a list with 2-tuples. Each tuple consists of the order number and the\n",
        "product of the price per item and the quantity. The product should be increased by 10,- € if the value of the\n",
        "order is smaller than 100,00 €.\n",
        "\n",
        "Write a Python program using lambda and map."
      ],
      "metadata": {
        "id": "U52Qv-ZmNo2v"
      }
    },
    {
      "cell_type": "code",
      "source": [
        "# Data (order_number, book_title, quantity, price_per_item)\n",
        "orders = [\n",
        "    [34587, \"Learning Python, Mark Lutz\", 4, 40.95],\n",
        "    [98762, \"Programming Python, Mark Lutz\", 5, 56.80],\n",
        "    [77226, \"Head First Python, Paul Barry\", 3, 32.95],\n",
        "    [88112, \"Einführung in Python3, Bernd Klein\", 3, 24.99]\n",
        "]\n",
        "\n",
        "# Using map and lambda\n",
        "invoice = list(map(lambda x: (x[0], x[2] * x[3] if x[2] * x[3] >= 100 else x[2] * x[3] + 10), orders))\n",
        "\n",
        "print(invoice)"
      ],
      "metadata": {
        "colab": {
          "base_uri": "https://localhost:8080/"
        },
        "id": "sJ__LLdLNmQO",
        "outputId": "c55229ee-5c5b-4f4e-dbbf-27c8714bde52"
      },
      "execution_count": 59,
      "outputs": [
        {
          "output_type": "stream",
          "name": "stdout",
          "text": [
            "[(34587, 163.8), (98762, 284.0), (77226, 108.85000000000001), (88112, 84.97)]\n"
          ]
        }
      ]
    }
  ]
}